{
  "nbformat": 4,
  "nbformat_minor": 0,
  "metadata": {
    "colab": {
      "provenance": []
    },
    "kernelspec": {
      "name": "python3",
      "display_name": "Python 3"
    },
    "language_info": {
      "name": "python"
    }
  },
  "cells": [
    {
      "cell_type": "markdown",
      "source": [
        "### Exercício 1:\n",
        "\n",
        "Fazer um programa que imprima a média aritmética dos números 8,9 e 7.\n",
        "A média dos números 4, 5 e 6. A soma das duas médias. A média das\n",
        "medias."
      ],
      "metadata": {
        "id": "vY3KBASPrqDQ"
      }
    },
    {
      "cell_type": "code",
      "source": [
        "def media_aritimetica(lista1, lista2):\n",
        "  soma1 = sum(lista1)\n",
        "  media1 = soma1/len(lista1)\n",
        "  print(media1)\n",
        "\n",
        "  soma2 = sum(lista2)\n",
        "  media2 = soma2/len(lista2)\n",
        "  print(media2)\n",
        "\n",
        "  lista = [media1, media2]\n",
        "  soma = sum(lista)\n",
        "  media = soma/len(lista)\n",
        "  print(media)"
      ],
      "metadata": {
        "id": "XIQ7qeJYmn7n"
      },
      "execution_count": null,
      "outputs": []
    },
    {
      "cell_type": "code",
      "execution_count": null,
      "metadata": {
        "colab": {
          "base_uri": "https://localhost:8080/"
        },
        "id": "Q7BdqrxWkEwz",
        "outputId": "5c39c7a8-a5fe-44b9-c865-1c21a33d1fb2"
      },
      "outputs": [
        {
          "output_type": "stream",
          "name": "stdout",
          "text": [
            "8.0\n",
            "5.0\n",
            "6.5\n"
          ]
        }
      ],
      "source": [
        "a = [8,9,7]\n",
        "b = [4,5,6]\n",
        "\n",
        "media_aritimetica(a,b)"
      ]
    },
    {
      "cell_type": "markdown",
      "source": [
        "### Exercício 2:\n",
        "\n",
        "Receber um nome no teclado e imprimi-lo dez vezes."
      ],
      "metadata": {
        "id": "cYQw1Y8IruRh"
      }
    },
    {
      "cell_type": "code",
      "source": [
        "nome = input('Escreva seu nome: ')\n",
        "for i in range(10): { print(nome) }"
      ],
      "metadata": {
        "id": "aVEKDdleqEn3",
        "colab": {
          "base_uri": "https://localhost:8080/"
        },
        "outputId": "dc47b839-11e1-4a76-e121-939116af8158"
      },
      "execution_count": null,
      "outputs": [
        {
          "output_type": "stream",
          "name": "stdout",
          "text": [
            "Escreva seu nome: jp\n",
            "jp\n",
            "jp\n",
            "jp\n",
            "jp\n",
            "jp\n",
            "jp\n",
            "jp\n",
            "jp\n",
            "jp\n",
            "jp\n"
          ]
        }
      ]
    },
    {
      "cell_type": "markdown",
      "source": [
        "###Exercício 3\n",
        "\n",
        "Ler um número inteiro e imprimir seu sucessor e seu antecessor."
      ],
      "metadata": {
        "id": "8tRTHjy_YgMO"
      }
    },
    {
      "cell_type": "code",
      "source": [
        "x = int(input('Insira um número inteiro: '))\n",
        "print('Seu sucessor é ', x + 1,' e seu antecessor é ', x - 1)"
      ],
      "metadata": {
        "colab": {
          "base_uri": "https://localhost:8080/"
        },
        "id": "BtbX4kfPYqhy",
        "outputId": "74704053-57fc-41f0-cf9d-0ed31e122d38"
      },
      "execution_count": null,
      "outputs": [
        {
          "output_type": "stream",
          "name": "stdout",
          "text": [
            "Insira um número inteiro: 6\n",
            "Seu sucessor é  7  e seu antecessor é  5\n"
          ]
        }
      ]
    },
    {
      "cell_type": "markdown",
      "source": [
        "###Exercício 4\n",
        "\n",
        "Receber um valor qualquer do teclado e imprimir esse valor com reajuste\n",
        "de 10%."
      ],
      "metadata": {
        "id": "oo7oVNsnYsnV"
      }
    },
    {
      "cell_type": "code",
      "source": [
        "valor = float(input('Insira o valor: '))\n",
        "valor += 0.1 * valor\n",
        "print(valor)"
      ],
      "metadata": {
        "colab": {
          "base_uri": "https://localhost:8080/"
        },
        "id": "aB0XYA9GbSf7",
        "outputId": "a99e460c-09b5-4420-9492-c4f0e8da28a0"
      },
      "execution_count": null,
      "outputs": [
        {
          "output_type": "stream",
          "name": "stdout",
          "text": [
            "Insira o valor: 3\n",
            "3.3\n"
          ]
        }
      ]
    },
    {
      "cell_type": "markdown",
      "source": [
        "###Exercício 5\n",
        "\n",
        "Informar três números inteiros e imprimir a média."
      ],
      "metadata": {
        "id": "BRa3TdiTYwvX"
      }
    },
    {
      "cell_type": "code",
      "source": [
        "x, y, z = input('Insira 3 valores: ').split()\n",
        "media = (float(x) + float(y) + float(z)) / 3\n",
        "print(media)"
      ],
      "metadata": {
        "colab": {
          "base_uri": "https://localhost:8080/"
        },
        "id": "gHAXGx-jbvqO",
        "outputId": "3d8ee961-c410-4187-9945-760585b22f9b"
      },
      "execution_count": null,
      "outputs": [
        {
          "output_type": "stream",
          "name": "stdout",
          "text": [
            "Insira 3 valores: 2 3 4\n",
            "3.0\n"
          ]
        }
      ]
    },
    {
      "cell_type": "markdown",
      "source": [
        "###Exercício 6\n",
        "\n",
        "Ler um número inteiro e imprimir seu quadrado."
      ],
      "metadata": {
        "id": "ZMzlhSUoYxtw"
      }
    },
    {
      "cell_type": "code",
      "source": [
        "x = int(input('Insira um número inteiro: '))\n",
        "print(x**2)"
      ],
      "metadata": {
        "colab": {
          "base_uri": "https://localhost:8080/"
        },
        "id": "7YVvQUZAdSn1",
        "outputId": "43d14400-314b-4c10-adb7-0ad73c05e4a7"
      },
      "execution_count": null,
      "outputs": [
        {
          "output_type": "stream",
          "name": "stdout",
          "text": [
            "Insira um número inteiro: 3\n",
            "9\n"
          ]
        }
      ]
    },
    {
      "cell_type": "markdown",
      "source": [
        "###Exercício 7\n",
        "\n",
        "Informar um saldo e imprimir o saldo com reajuste de 1%"
      ],
      "metadata": {
        "id": "4wvP98dxYysY"
      }
    },
    {
      "cell_type": "code",
      "source": [
        "saldo = float(input('Informe o saldo: '))\n",
        "saldo += saldo * 0.01\n",
        "print(saldo)"
      ],
      "metadata": {
        "colab": {
          "base_uri": "https://localhost:8080/"
        },
        "id": "WrOBnyCfdig4",
        "outputId": "22f730e7-3287-4d9d-c2aa-392843fdf1d2"
      },
      "execution_count": null,
      "outputs": [
        {
          "output_type": "stream",
          "name": "stdout",
          "text": [
            "Informe o saldo: 5\n",
            "5.05\n"
          ]
        }
      ]
    },
    {
      "cell_type": "markdown",
      "source": [
        "###Exercício 8\n",
        "\n",
        "Informar um preço de um produto e calcular novo preço com desconto de\n",
        "9%"
      ],
      "metadata": {
        "id": "_sSdbwlGYzpI"
      }
    },
    {
      "cell_type": "code",
      "source": [
        "preco = float(input('Informe o preco: '))\n",
        "preco -= preco * 0.09\n",
        "print(preco)"
      ],
      "metadata": {
        "colab": {
          "base_uri": "https://localhost:8080/"
        },
        "id": "1gQN4JVgd6Fj",
        "outputId": "a7fe50f4-952f-4dda-876a-6a34b8567930"
      },
      "execution_count": null,
      "outputs": [
        {
          "output_type": "stream",
          "name": "stdout",
          "text": [
            "Informe o preco: 10\n",
            "9.1\n"
          ]
        }
      ]
    },
    {
      "cell_type": "markdown",
      "source": [
        "###Exercício 9\n",
        "\n",
        "Cálculo de um salário líquido de um professor. Serão fornecidos valor da\n",
        "hora aula, numero de aulas dadas e o % de desconto do INSS."
      ],
      "metadata": {
        "id": "9o_Ov1mWY0lV"
      }
    },
    {
      "cell_type": "code",
      "source": [
        "horaAula, aulasDadas, inss = input('Insira o valor da hora aula, o número de aulas dadas e a porcentagem do desconto do INSS: ').split()\n",
        "salario = float(horaAula) * float(aulasDadas) * ((100 - float(inss)) / 100)\n",
        "print(salario)"
      ],
      "metadata": {
        "colab": {
          "base_uri": "https://localhost:8080/"
        },
        "id": "EFe65RoZeKxC",
        "outputId": "1a51e35f-fbbf-4a16-87e0-90709444e3b6"
      },
      "execution_count": null,
      "outputs": [
        {
          "output_type": "stream",
          "name": "stdout",
          "text": [
            "Insira o valor da hora aula, o número de aulas dadas e a porcentagem do desconto do INSS: 20 44 10\n",
            "792.0\n"
          ]
        }
      ]
    },
    {
      "cell_type": "markdown",
      "source": [
        "###Exercício 10\n",
        "\n",
        "Ler uma temperatura em graus Celsius e transformá-la em graus\n",
        "Fahrenheit."
      ],
      "metadata": {
        "id": "pPYPTcY2Y1NV"
      }
    },
    {
      "cell_type": "code",
      "source": [
        "graus = float(input('Insira a temperatura: '))\n",
        "graus = (graus * 9 / 5) + 32\n",
        "print(graus)"
      ],
      "metadata": {
        "colab": {
          "base_uri": "https://localhost:8080/"
        },
        "id": "RtuCYIg5eVN0",
        "outputId": "9afe33fb-1524-4bae-8fd9-b0fc054517a2"
      },
      "execution_count": null,
      "outputs": [
        {
          "output_type": "stream",
          "name": "stdout",
          "text": [
            "Insira a temperatura: 20\n",
            "68.0\n"
          ]
        }
      ]
    },
    {
      "cell_type": "markdown",
      "source": [
        "###Exercício 11\n",
        "\n",
        "Ler um número e se for maior que 20 imprimir a metade desse número."
      ],
      "metadata": {
        "id": "FHITQW9y8qpW"
      }
    },
    {
      "cell_type": "code",
      "source": [
        "num = int(input('Insira um número: '))\n",
        "if num > 20: { print(num/2) }"
      ],
      "metadata": {
        "colab": {
          "base_uri": "https://localhost:8080/"
        },
        "id": "zjGvecLm8t08",
        "outputId": "432c2ecb-b964-49a5-bdf7-3f2b98c684f7"
      },
      "execution_count": null,
      "outputs": [
        {
          "output_type": "stream",
          "name": "stdout",
          "text": [
            "Insira um número: 21\n",
            "10.5\n"
          ]
        }
      ]
    },
    {
      "cell_type": "markdown",
      "source": [
        "###Exercício 12\n",
        "\n",
        "Ler 2 números inteiros e soma-los. Se a soma for maior que 10, mostrar o\n",
        "resultado da soma."
      ],
      "metadata": {
        "id": "qLtF7_Ao8uJP"
      }
    },
    {
      "cell_type": "code",
      "source": [
        "x, y = input('Insira 2 números: ').split()\n",
        "if int(x) + int(y) > 10: { print(int(x) + int(y)) }"
      ],
      "metadata": {
        "colab": {
          "base_uri": "https://localhost:8080/"
        },
        "id": "V565JTTk8vFK",
        "outputId": "bc663c2d-c1a2-4830-fdf9-928862a3d662"
      },
      "execution_count": null,
      "outputs": [
        {
          "name": "stdout",
          "output_type": "stream",
          "text": [
            "Insira 2 números: 5 5\n"
          ]
        }
      ]
    },
    {
      "cell_type": "markdown",
      "source": [
        "###Exercício 13\n",
        "\n",
        "Ler 1 número. Se positivo, imprimir raiz quadrada senão o quadrado."
      ],
      "metadata": {
        "id": "lmqNUXGI8vQV"
      }
    },
    {
      "cell_type": "code",
      "source": [
        "num = int(input('Insira um número: '))\n",
        "if num >= 0: { print(num**0.5) }\n",
        "else: { print(num**2) }"
      ],
      "metadata": {
        "colab": {
          "base_uri": "https://localhost:8080/"
        },
        "id": "V7vUuynk8waa",
        "outputId": "0cf71ba2-9297-4674-e667-48796363a18b"
      },
      "execution_count": null,
      "outputs": [
        {
          "output_type": "stream",
          "name": "stdout",
          "text": [
            "Insira um número: -2\n",
            "4\n"
          ]
        }
      ]
    },
    {
      "cell_type": "markdown",
      "source": [
        "###Exercício 14\n",
        "\n",
        "Solicitar salário, prestação. Se prestação for maior que 20% do salário,\n",
        "imprimir: Empréstimo não pode ser concedido. Senão imprimir empréstimo\n",
        "pode ser concedido."
      ],
      "metadata": {
        "id": "UAc0zPsU8wnr"
      }
    },
    {
      "cell_type": "code",
      "source": [
        "salario, prestacao = input('Insira o salário e a prestação: ').split()\n",
        "if int(prestacao) > (0.2*int(salario)): { print('Empréstimo não pode ser concedido.') }\n",
        "else: { print('Empréstimo pode ser concedido.') }"
      ],
      "metadata": {
        "colab": {
          "base_uri": "https://localhost:8080/"
        },
        "id": "T4gJXxpr8xmK",
        "outputId": "0b24b029-038d-4b1c-f369-bd97290d798e"
      },
      "execution_count": null,
      "outputs": [
        {
          "output_type": "stream",
          "name": "stdout",
          "text": [
            "Insira o salário e a prestação: 1000 200\n",
            "Empréstimo pode ser concedido.\n"
          ]
        }
      ]
    },
    {
      "cell_type": "markdown",
      "source": [
        "###Exercício 15\n",
        "\n",
        "Ler um número e imprimir: maior que 20, igual a 20 ou menor que 20"
      ],
      "metadata": {
        "id": "Zue29tgU8xxq"
      }
    },
    {
      "cell_type": "code",
      "source": [
        "num = int(input('Insira um número: '))\n",
        "if num > 20: {print('Maior que 20.')}\n",
        "elif num < 20: {print('Menor que 20.')}\n",
        "else: {print('Igual a 20.')}"
      ],
      "metadata": {
        "colab": {
          "base_uri": "https://localhost:8080/"
        },
        "id": "yHtLUtO38zGS",
        "outputId": "72e406f6-9021-43c5-9089-88b15e6735b0"
      },
      "execution_count": null,
      "outputs": [
        {
          "output_type": "stream",
          "name": "stdout",
          "text": [
            "Insira um número: 19\n",
            "Menor que 20.\n"
          ]
        }
      ]
    },
    {
      "cell_type": "markdown",
      "source": [
        "###Exercício 16\n",
        "\n",
        "Ler um ano de nascimento e ano atual. Imprimir a idade da pessoa."
      ],
      "metadata": {
        "id": "oMSL4NYK8zcB"
      }
    },
    {
      "cell_type": "code",
      "source": [
        "import datetime\n",
        "data = datetime.date.today()\n",
        "dia, mes, ano = input('Insira o dia, mês e ano do seu aniversário: ').split()\n",
        "dia = int(dia)\n",
        "mes = int(mes)\n",
        "ano = int(ano)\n",
        "idade = data.year - ano\n",
        "if (mes < data.month): {\n",
        "    print('Você tem', idade, 'anos.')\n",
        "}\n",
        "elif (dia > data.day): {\n",
        "    print('Você tem', idade - 1, 'anos.')\n",
        "}"
      ],
      "metadata": {
        "colab": {
          "base_uri": "https://localhost:8080/"
        },
        "id": "WBuWfP44CKQd",
        "outputId": "9f5168c8-7fbf-4837-ba83-82010e96aee3"
      },
      "execution_count": null,
      "outputs": [
        {
          "output_type": "stream",
          "name": "stdout",
          "text": [
            "Insira o dia, mês e ano do seu aniversário: 24 09 1979\n",
            "Você tem 43 anos.\n"
          ]
        }
      ]
    },
    {
      "cell_type": "markdown",
      "source": [
        "###Exercício 17\n",
        "\n",
        "Criar um algoritmo que leia os limites inferior e superior de um intervalo e\n",
        "imprimir todos os números pares no intervalo aberto e seu"
      ],
      "metadata": {
        "id": "aA7GbsHQ87zg"
      }
    },
    {
      "cell_type": "code",
      "source": [
        "def par(i):\n",
        "  if i % 2 == 0: {print(i)}\n",
        "\n",
        "x, y = input('Insira x e y: ').split()\n",
        "for i in range(int(x),int(y)+1):par(i)"
      ],
      "metadata": {
        "colab": {
          "base_uri": "https://localhost:8080/"
        },
        "id": "U1waT92u88_3",
        "outputId": "71f120bd-9c9b-4193-fb04-bd10e483c08d"
      },
      "execution_count": null,
      "outputs": [
        {
          "output_type": "stream",
          "name": "stdout",
          "text": [
            "Insira x e y: 10 20\n",
            "10\n",
            "12\n",
            "14\n",
            "16\n",
            "18\n",
            "20\n"
          ]
        }
      ]
    },
    {
      "cell_type": "markdown",
      "source": [
        "###Exercício 18\n",
        "\n",
        "Somatório. Suponha que os dados digitados são para um intervalo\n",
        "crescente."
      ],
      "metadata": {
        "id": "a4UwsQdW89Mr"
      }
    },
    {
      "cell_type": "code",
      "source": [
        "x, y = input('Insira o intervalo: ').split()\n",
        "x = int(x)\n",
        "y = int(y)\n",
        "sum = 0\n",
        "for i in range(x,y + 1): sum += i\n",
        "print(sum)"
      ],
      "metadata": {
        "colab": {
          "base_uri": "https://localhost:8080/"
        },
        "id": "hYx2ANkFQKcY",
        "outputId": "3d7ef00d-882d-4531-cff0-a6331075d43e"
      },
      "execution_count": null,
      "outputs": [
        {
          "output_type": "stream",
          "name": "stdout",
          "text": [
            "Insira o intervalo: 1 3\n",
            "6\n"
          ]
        }
      ]
    },
    {
      "cell_type": "markdown",
      "source": [
        "###Exercício 19\n",
        "\n",
        "Apresentar os quadrados dos números inteiros de 15 a 200."
      ],
      "metadata": {
        "id": "YyXKZaJ_8-0M"
      }
    },
    {
      "cell_type": "code",
      "source": [
        "x, y = input('Insira o intervalo: ').split()\n",
        "x = int(x)\n",
        "y = int(y)\n",
        "for i in range(x,y + 1): print(i**2)"
      ],
      "metadata": {
        "id": "AsGVDHag8_uw"
      },
      "execution_count": null,
      "outputs": []
    },
    {
      "cell_type": "markdown",
      "source": [
        "###Exercício 20\n",
        "\n",
        "Apresentar o total da soma obtida dos cem primeiros números inteiros"
      ],
      "metadata": {
        "id": "s1TPfS-l9APe"
      }
    },
    {
      "cell_type": "code",
      "source": [
        "x = int(input('Até qual número? '))\n",
        "sum = 0\n",
        "for i in range(x + 1):\n",
        "  sum += i\n",
        "print(sum)"
      ],
      "metadata": {
        "colab": {
          "base_uri": "https://localhost:8080/"
        },
        "id": "gUzGr0SH9D3I",
        "outputId": "2f04efd9-c658-4113-c4ee-64e44ab5e88f"
      },
      "execution_count": null,
      "outputs": [
        {
          "output_type": "stream",
          "name": "stdout",
          "text": [
            "Até qual número? 100\n",
            "5050\n"
          ]
        }
      ]
    },
    {
      "cell_type": "markdown",
      "source": [
        "###Exercício 21\n",
        "\n",
        "Apresentar todos os números divisíveis por 4 que sejam menores que 200."
      ],
      "metadata": {
        "id": "56ssPjcgV9jD"
      }
    },
    {
      "cell_type": "code",
      "source": [
        "def div4(i):\n",
        "  if i % 4 == 0: {print(i, 'é divisível por 4.')}\n",
        "\n",
        "num = int(input('Insira um número: '))\n",
        "for i in range(num + 1): div4(i)"
      ],
      "metadata": {
        "colab": {
          "base_uri": "https://localhost:8080/"
        },
        "id": "dBwgMwFsYPOC",
        "outputId": "d9374238-7051-44ff-d692-f4b64282712f"
      },
      "execution_count": 6,
      "outputs": [
        {
          "output_type": "stream",
          "name": "stdout",
          "text": [
            "Insira um número: 200\n",
            "0 é divisível por 4.\n",
            "4 é divisível por 4.\n",
            "8 é divisível por 4.\n",
            "12 é divisível por 4.\n",
            "16 é divisível por 4.\n",
            "20 é divisível por 4.\n",
            "24 é divisível por 4.\n",
            "28 é divisível por 4.\n",
            "32 é divisível por 4.\n",
            "36 é divisível por 4.\n",
            "40 é divisível por 4.\n",
            "44 é divisível por 4.\n",
            "48 é divisível por 4.\n",
            "52 é divisível por 4.\n",
            "56 é divisível por 4.\n",
            "60 é divisível por 4.\n",
            "64 é divisível por 4.\n",
            "68 é divisível por 4.\n",
            "72 é divisível por 4.\n",
            "76 é divisível por 4.\n",
            "80 é divisível por 4.\n",
            "84 é divisível por 4.\n",
            "88 é divisível por 4.\n",
            "92 é divisível por 4.\n",
            "96 é divisível por 4.\n",
            "100 é divisível por 4.\n",
            "104 é divisível por 4.\n",
            "108 é divisível por 4.\n",
            "112 é divisível por 4.\n",
            "116 é divisível por 4.\n",
            "120 é divisível por 4.\n",
            "124 é divisível por 4.\n",
            "128 é divisível por 4.\n",
            "132 é divisível por 4.\n",
            "136 é divisível por 4.\n",
            "140 é divisível por 4.\n",
            "144 é divisível por 4.\n",
            "148 é divisível por 4.\n",
            "152 é divisível por 4.\n",
            "156 é divisível por 4.\n",
            "160 é divisível por 4.\n",
            "164 é divisível por 4.\n",
            "168 é divisível por 4.\n",
            "172 é divisível por 4.\n",
            "176 é divisível por 4.\n",
            "180 é divisível por 4.\n",
            "184 é divisível por 4.\n",
            "188 é divisível por 4.\n",
            "192 é divisível por 4.\n",
            "196 é divisível por 4.\n",
            "200 é divisível por 4.\n"
          ]
        }
      ]
    },
    {
      "cell_type": "markdown",
      "source": [
        "###Exercício 22\n",
        "\n",
        "Elaborar um programa que efetue a leitura sucessiva de valores numéricos\n",
        "e apresente no final o total do somatório, a média e o total de valores lidos.\n",
        "O programa deve fazer as leituras dos valores enquanto o usuário estiver\n",
        "fornecendo valores positivos. Ou seja, o programa deve parar quando o\n",
        "usuário fornecer um valor negativo."
      ],
      "metadata": {
        "id": "65vq5yfrWRwM"
      }
    },
    {
      "cell_type": "code",
      "source": [
        "sum = 0\n",
        "i = float(input('Insira um número: '))\n",
        "while i >= 0:\n",
        "  sum += i\n",
        "  i = float(input('Insira um número: '))\n",
        "print(sum)"
      ],
      "metadata": {
        "colab": {
          "base_uri": "https://localhost:8080/"
        },
        "id": "WPVYgCDCZpFX",
        "outputId": "22cbfa91-1b81-4f10-d115-2af22a777313"
      },
      "execution_count": 9,
      "outputs": [
        {
          "output_type": "stream",
          "name": "stdout",
          "text": [
            "Insira um número: 1\n",
            "Insira um número: 2\n",
            "Insira um número: 3\n",
            "Insira um número: 4\n",
            "Insira um número: 5\n",
            "Insira um número: 6\n",
            "Insira um número: 7\n",
            "Insira um número: 8\n",
            "Insira um número: 9\n",
            "Insira um número: 10\n",
            "Insira um número: 0\n",
            "Insira um número: -45\n",
            "55.0\n"
          ]
        }
      ]
    },
    {
      "cell_type": "markdown",
      "source": [
        "###Exercício 23\n",
        "\n",
        "Elaborar um programa que efetue a leitura de valores positivos inteiros até\n",
        "que um valor negativo seja informado. Ao final devem ser apresentados o\n",
        "maior e menor valore informados pelo usuário."
      ],
      "metadata": {
        "id": "VHs-0J0AWI3Q"
      }
    },
    {
      "cell_type": "code",
      "source": [
        "def maxV(x,y):\n",
        "  if x > y : {\n",
        "    y := x\n",
        "  }\n",
        "  return y\n",
        "\n",
        "sum = 0\n",
        "i = int(input('Insira um número: '))\n",
        "while i >= 0:\n",
        "  sum = maxV(i,sum)\n",
        "  i = int(input('Insira um número: '))\n",
        "print(sum)"
      ],
      "metadata": {
        "colab": {
          "base_uri": "https://localhost:8080/"
        },
        "id": "aWuZOf_ZaT-l",
        "outputId": "2f62ad61-ac57-4cff-8f50-3c4d3eddae86"
      },
      "execution_count": 18,
      "outputs": [
        {
          "output_type": "stream",
          "name": "stdout",
          "text": [
            "Insira um número: 1\n",
            "Insira um número: 3\n",
            "Insira um número: 123\n",
            "Insira um número: 321\n",
            "Insira um número: 123\n",
            "Insira um número: 3\n",
            "Insira um número: 1\n",
            "Insira um número: -9\n",
            "321\n"
          ]
        }
      ]
    },
    {
      "cell_type": "markdown",
      "source": [
        "###Exercício 24\n",
        "\n",
        "Receber um número do teclado e informar se ele é divisível por 10, por 5,\n",
        "por 2 ou se não é divisível por nenhum destes."
      ],
      "metadata": {
        "id": "x38Y2zUOWJCu"
      }
    },
    {
      "cell_type": "code",
      "source": [
        "x = int(input('Insira um número: '))\n",
        "if x % 5 == 0 and x % 2 == 0: {\n",
        "    print('O número', x, 'é divisível por 10, 5 e 2.')\n",
        "}\n",
        "elif x % 5 == 0: {\n",
        "    print('O número', x, 'é divisível por 5.')\n",
        "}\n",
        "elif x % 2 == 0: {\n",
        "    print('O número', x, 'é divisível por 2.')\n",
        "}\n",
        "else: {\n",
        "    print('O número', x, 'não é divisível por 10, 5 e 2.')\n",
        "}"
      ],
      "metadata": {
        "colab": {
          "base_uri": "https://localhost:8080/"
        },
        "id": "ieXpL5Ksb2Tm",
        "outputId": "6cd9e4a0-1ae4-4190-e761-723ed7353e6f"
      },
      "execution_count": 33,
      "outputs": [
        {
          "output_type": "stream",
          "name": "stdout",
          "text": [
            "Insira um número: 26\n",
            "O número 26 é divisível por 2.\n"
          ]
        }
      ]
    },
    {
      "cell_type": "markdown",
      "source": [
        "###Exercício 25\n",
        "\n",
        "Um comerciante comprou um produto e quer vendê-lo com lucro de 5% se\n",
        "o valor da compra for menor que 20,00; caso contrário, o lucro será de\n",
        "30%. Entrar com o valor do produto e imprimir o valor da venda."
      ],
      "metadata": {
        "id": "mWAZxvIYWJGX"
      }
    },
    {
      "cell_type": "code",
      "source": [
        "v = float(input('Insira o valor do produto: '))\n",
        "if (v < 20.00): {\n",
        "    v := v + (v * 0.05)\n",
        "}\n",
        "else: {\n",
        "    v := v + (v * 0.3)\n",
        "}\n",
        "print('O valor de venda deve ser R$', v)"
      ],
      "metadata": {
        "colab": {
          "base_uri": "https://localhost:8080/"
        },
        "id": "f4rhi0FAdYC7",
        "outputId": "0f56dc23-8e2c-4f87-b11a-421a0f840c14"
      },
      "execution_count": 56,
      "outputs": [
        {
          "output_type": "stream",
          "name": "stdout",
          "text": [
            "Insira o valor do produto: 20\n",
            "O valor de venda deve ser R$ 26.0\n"
          ]
        }
      ]
    },
    {
      "cell_type": "markdown",
      "source": [
        "###Exercício 26\n",
        "\n",
        "Receber do teclado, vários números e verificar se eles são ou não\n",
        "quadrados perfeitos. O programa termina quando o usuário digitar um\n",
        "número menor ou igual a zero."
      ],
      "metadata": {
        "id": "PBFjsI4YWJJT"
      }
    },
    {
      "cell_type": "code",
      "source": [
        "def quadradoPerfeito(valor):\n",
        "  raizQ = int(valor ** (1/2))\n",
        "  if((raizQ ** 2) == valor ): {\n",
        "    print('O número {0} é um quadrado perfeito!!!'.format(int(valor)))\n",
        "  }\n",
        "  else: {\n",
        "    print('O número {0} não é quadrado perfeito!!!'.format(valor))\n",
        "  }\n",
        "\n",
        "valor = int(input('Insira um número: '))\n",
        "while valor > 0:\n",
        "  quadradoPerfeito(valor)\n",
        "  valor = int(input('Insira um número: '))"
      ],
      "metadata": {
        "colab": {
          "base_uri": "https://localhost:8080/"
        },
        "id": "JNYoFJv9hCye",
        "outputId": "0b4913b1-0851-4c3d-c2c0-ac0477020268"
      },
      "execution_count": 59,
      "outputs": [
        {
          "name": "stdout",
          "output_type": "stream",
          "text": [
            "Insira um número: 1\n",
            "O número 1 é um quadrado perfeito!!!\n",
            "Insira um número: 2\n",
            "O número 2 não é quadrado perfeito!!!\n",
            "Insira um número: 3\n",
            "O número 3 não é quadrado perfeito!!!\n",
            "Insira um número: 4\n",
            "O número 4 é um quadrado perfeito!!!\n",
            "Insira um número: 5\n",
            "O número 5 não é quadrado perfeito!!!\n",
            "Insira um número: 6\n",
            "O número 6 não é quadrado perfeito!!!\n",
            "Insira um número: 7\n",
            "O número 7 não é quadrado perfeito!!!\n",
            "Insira um número: 8\n",
            "Insira um número: 9\n",
            "O número 8 não é quadrado perfeito!!!\n",
            "O número 9 é um quadrado perfeito!!!\n",
            "Insira um número: 10\n",
            "O número 10 não é quadrado perfeito!!!\n",
            "Insira um número: 11\n",
            "O número 11 não é quadrado perfeito!!!\n",
            "Insira um número: 12\n",
            "O número 12 não é quadrado perfeito!!!\n",
            "Insira um número: 13\n",
            "O número 13 não é quadrado perfeito!!!\n",
            "Insira um número: 14\n",
            "O número 14 não é quadrado perfeito!!!\n",
            "Insira um número: 15\n",
            "O número 15 não é quadrado perfeito!!!\n",
            "Insira um número: 16\n",
            "O número 16 é um quadrado perfeito!!!\n",
            "Insira um número: 0\n"
          ]
        }
      ]
    },
    {
      "cell_type": "markdown",
      "source": [
        "###Exercício 27\n",
        "\n",
        "Ler 2 valores e somar os dois. Caso a soma seja maior que 10, mostrar a\n",
        "soma."
      ],
      "metadata": {
        "id": "3701TLfvWJMg"
      }
    },
    {
      "cell_type": "code",
      "source": [
        "x, y = input('Insira x e y: ').split()\n",
        "x = float(x)\n",
        "y = float(y)\n",
        "if x + y > 10: {print(x + y)}"
      ],
      "metadata": {
        "colab": {
          "base_uri": "https://localhost:8080/"
        },
        "id": "D5dck_XRi4wL",
        "outputId": "031169bc-f5af-4104-c649-d08ddb9436e5"
      },
      "execution_count": 62,
      "outputs": [
        {
          "name": "stdout",
          "output_type": "stream",
          "text": [
            "Insira x e y: 2 2\n"
          ]
        }
      ]
    },
    {
      "cell_type": "markdown",
      "source": [
        "###Exercício 28\n",
        "\n",
        "Entrar com um número e imprimir a raiz quadrada do número. Caso ele\n",
        "seja positivo. E o quadrado dele caso seja negativo."
      ],
      "metadata": {
        "id": "W9t2vmexWJPc"
      }
    },
    {
      "cell_type": "code",
      "source": [
        "x = float(input('Insira um valor: '))\n",
        "if x >= 0: { print(x**(1/2)) }\n",
        "else: {print(x**2)}"
      ],
      "metadata": {
        "colab": {
          "base_uri": "https://localhost:8080/"
        },
        "id": "FWOzGfRajVq9",
        "outputId": "79762acb-8f93-4f88-a08c-1375305c99b5"
      },
      "execution_count": 65,
      "outputs": [
        {
          "output_type": "stream",
          "name": "stdout",
          "text": [
            "Insira um valor: -9\n",
            "81.0\n"
          ]
        }
      ]
    },
    {
      "cell_type": "markdown",
      "source": [
        "###Exercício 29\n",
        "\n",
        "Ler um número inteiro e verificar se está compreendido entre 20 e 80. Se\n",
        "tiver, imprimir “parabéns”, senão imprimir “chimpanzé”."
      ],
      "metadata": {
        "id": "xSknhHQeWK0m"
      }
    },
    {
      "cell_type": "code",
      "source": [
        "x = float(input('Insira um valor: '))\n",
        "if x > 20 and x < 80: { print('parabéns') }\n",
        "else: {print('chimpanzé')}"
      ],
      "metadata": {
        "colab": {
          "base_uri": "https://localhost:8080/"
        },
        "id": "x1cNfys_jx_X",
        "outputId": "b7a6478f-b538-4c63-9308-6989d829b3b6"
      },
      "execution_count": 72,
      "outputs": [
        {
          "output_type": "stream",
          "name": "stdout",
          "text": [
            "Insira um valor: 79\n",
            "parabéns\n"
          ]
        }
      ]
    },
    {
      "cell_type": "markdown",
      "source": [
        "###Exercício 30\n",
        "\n",
        "Ler um número do teclado e imprimir todos os números de 1 até o número\n",
        "lido. Imprimir o produto dos números."
      ],
      "metadata": {
        "id": "Oms8U-7lWK7_"
      }
    },
    {
      "cell_type": "code",
      "source": [
        "x = int(input('Insira um valor: '))\n",
        "mult = 1\n",
        "for i in range(1, x + 1):\n",
        "  print(i)\n",
        "  mult = i * mult\n",
        "print ('A multiplicação é', mult)"
      ],
      "metadata": {
        "colab": {
          "base_uri": "https://localhost:8080/"
        },
        "id": "SM_QjM1BkMpL",
        "outputId": "ea3a3474-9190-4415-90da-bf018823def0"
      },
      "execution_count": 80,
      "outputs": [
        {
          "output_type": "stream",
          "name": "stdout",
          "text": [
            "Insira um valor: 5\n",
            "1\n",
            "2\n",
            "3\n",
            "4\n",
            "5\n",
            "A multiplicação é 120\n"
          ]
        }
      ]
    },
    {
      "cell_type": "markdown",
      "source": [
        "###Exercício 31\n",
        "\n",
        "Ler um número e imprimir igual a 20, menor que 20, maior que 20."
      ],
      "metadata": {
        "id": "SCma6vLKWLDR"
      }
    },
    {
      "cell_type": "code",
      "source": [
        "num = int(input('Insira um número: '))\n",
        "if num > 20: {print('Maior que 20.')}\n",
        "elif num < 20: {print('Menor que 20.')}\n",
        "else: {print('Igual a 20.')}"
      ],
      "metadata": {
        "colab": {
          "base_uri": "https://localhost:8080/"
        },
        "id": "_v5kCi6DlNeQ",
        "outputId": "276b141e-877e-4f18-f587-472d00f242eb"
      },
      "execution_count": 81,
      "outputs": [
        {
          "output_type": "stream",
          "name": "stdout",
          "text": [
            "Insira um número: 34\n",
            "Maior que 20.\n"
          ]
        }
      ]
    },
    {
      "cell_type": "markdown",
      "source": [
        "###Exercício 32\n",
        "\n",
        "Informe o tipo de carro (A, B e C). Informe o percurso rodado em km e\n",
        "calcule o consumo estimado, conforme o tipo, sendo (A=8, B=9 e C=12)\n",
        "km/litro"
      ],
      "metadata": {
        "id": "EIgunNvYWLKb"
      }
    },
    {
      "cell_type": "code",
      "source": [
        "carro = input('Informe se o carro é do tipo A, B ou C: ')\n",
        "km = float(input('Informe a quilometragem rodada: '))\n",
        "match carro.lower():\n",
        "  case \"a\":\n",
        "    print('Foi gasto', km / 8, 'litros de combustível.')\n",
        "  case \"b\":\n",
        "    print('Foi gasto', km / 9, 'litros de combustível.')\n",
        "  case \"c\":\n",
        "    print('Foi gasto', km / 12, 'litros de combustível.')\n",
        "  case _:\n",
        "    print('Não foi informado corretamente o tipo de carro.')"
      ],
      "metadata": {
        "colab": {
          "base_uri": "https://localhost:8080/"
        },
        "id": "iSaNwk2upTd3",
        "outputId": "a5153b70-e868-48e6-9611-c2cdb4f80f3c"
      },
      "execution_count": 87,
      "outputs": [
        {
          "output_type": "stream",
          "name": "stdout",
          "text": [
            "Informe se o carro é do tipo A, B ou C: a\n",
            "Informe a quilometragem rodada: 64\n",
            "Foi gasto 8.0 litros de combustível.\n"
          ]
        }
      ]
    },
    {
      "cell_type": "markdown",
      "source": [
        "###Exercício 33\n",
        "\n",
        "Escrever um programa que leia, valores inteiros, até ser lido o valor 99.\n",
        "Quando isso acontecer o programa deverá escrever a soma e a média dos\n",
        "valores lidos."
      ],
      "metadata": {
        "id": "YPBQO9D3WLSq"
      }
    },
    {
      "cell_type": "code",
      "source": [
        "valor = int(input('Insira um valor: '))\n",
        "sum = 0\n",
        "i = 0\n",
        "while valor != 99:\n",
        "  sum += valor\n",
        "  i += 1\n",
        "  valor = int(input('Insira um valor: '))\n",
        "print('A soma é', sum, 'e a média é', sum/i)"
      ],
      "metadata": {
        "colab": {
          "base_uri": "https://localhost:8080/"
        },
        "id": "d0uX7Gdvrayw",
        "outputId": "e7c01a7e-9130-4e74-edd4-d5f49bb4d0d5"
      },
      "execution_count": 88,
      "outputs": [
        {
          "output_type": "stream",
          "name": "stdout",
          "text": [
            "Insira um valor: 1\n",
            "Insira um valor: 2\n",
            "Insira um valor: 3\n",
            "Insira um valor: 4\n",
            "Insira um valor: 5\n",
            "Insira um valor: 6\n",
            "Insira um valor: 7\n",
            "Insira um valor: 8\n",
            "Insira um valor: 9\n",
            "Insira um valor: 10\n",
            "Insira um valor: 99\n",
            "A soma é 55 e a média é 5.5\n"
          ]
        }
      ]
    },
    {
      "cell_type": "markdown",
      "source": [
        "###Exercício 34\n",
        "\n",
        "Escrever um programa que receba vários números inteiros no teclado. E no\n",
        "final imprimir a média dos números múltiplos de 3. Para sair digitar 0\n",
        "(zero)."
      ],
      "metadata": {
        "id": "SGOcDZ3OWLYa"
      }
    },
    {
      "cell_type": "code",
      "source": [
        "x = int(input('Insira um número inteiro: '))\n",
        "sum = 0\n",
        "i = 0\n",
        "while x != 0:\n",
        "  if x % 3 == 0:\n",
        "    sum += x\n",
        "    i += 1\n",
        "  x = int(input('Insira um número inteiro: '))\n",
        "print('A média é', sum/i)"
      ],
      "metadata": {
        "colab": {
          "base_uri": "https://localhost:8080/"
        },
        "id": "t4YbEJD6sogA",
        "outputId": "8b7a9b1e-c907-4151-de51-5d81a2613bc1"
      },
      "execution_count": 93,
      "outputs": [
        {
          "output_type": "stream",
          "name": "stdout",
          "text": [
            "Insira um número inteiro: 1\n",
            "Insira um número inteiro: 2\n",
            "Insira um número inteiro: 3\n",
            "Insira um número inteiro: 4\n",
            "Insira um número inteiro: 5\n",
            "Insira um número inteiro: 6\n",
            "Insira um número inteiro: 7\n",
            "Insira um número inteiro: 8\n",
            "Insira um número inteiro: 9\n",
            "Insira um número inteiro: 0\n",
            "A média é 6.0\n"
          ]
        }
      ]
    },
    {
      "cell_type": "markdown",
      "source": [
        "###Exercício 35\n",
        "\n",
        "Receber dois números e imprimi-los em ordem crescente.2"
      ],
      "metadata": {
        "id": "1hkrGZ-gWLeI"
      }
    },
    {
      "cell_type": "code",
      "source": [
        "x, y = input('Insira 2 números: ').split()\n",
        "x = float(x)\n",
        "y = float(y)\n",
        "if x > y:\n",
        "  print(y, x)\n",
        "elif x < y:\n",
        "  print(x, y)\n",
        "else:\n",
        "  print(x)"
      ],
      "metadata": {
        "colab": {
          "base_uri": "https://localhost:8080/"
        },
        "id": "xNIM5WeGuY6i",
        "outputId": "9e5bcfb5-d3de-4c6c-dd95-4993c992ba81"
      },
      "execution_count": 97,
      "outputs": [
        {
          "output_type": "stream",
          "name": "stdout",
          "text": [
            "Insira 2 números: 2 2\n",
            "2.0\n"
          ]
        }
      ]
    },
    {
      "cell_type": "markdown",
      "source": [
        "###Exercício 36\n",
        "\n",
        "Escrever um programa que receba vários números inteiros no teclado e no\n",
        "final imprimir a média dos números múltiplos de 3. Para sair digitar 0\n",
        "(zero)."
      ],
      "metadata": {
        "id": "_bi4WVPVWLjL"
      }
    },
    {
      "cell_type": "code",
      "source": [
        "x = int(input('Insira um número inteiro: '))\n",
        "sum = 0\n",
        "i = 0\n",
        "while x != 0:\n",
        "  if x % 3 == 0:\n",
        "    sum += x\n",
        "    i += 1\n",
        "  x = int(input('Insira um número inteiro: '))\n",
        "print('A média é', sum/i)"
      ],
      "metadata": {
        "colab": {
          "base_uri": "https://localhost:8080/"
        },
        "id": "OCywAQZNvGD3",
        "outputId": "b4dd91ea-fad2-4f46-8e40-bd7df0f2de97"
      },
      "execution_count": 98,
      "outputs": [
        {
          "output_type": "stream",
          "name": "stdout",
          "text": [
            "Insira um número inteiro: 1\n",
            "Insira um número inteiro: 2\n",
            "Insira um número inteiro: 3\n",
            "Insira um número inteiro: 4\n",
            "Insira um número inteiro: 5\n",
            "Insira um número inteiro: 6\n",
            "Insira um número inteiro: 7\n",
            "Insira um número inteiro: 8\n",
            "Insira um número inteiro: 9\n",
            "Insira um número inteiro: 0\n",
            "A média é 6.0\n"
          ]
        }
      ]
    },
    {
      "cell_type": "markdown",
      "source": [
        "###Exercício 37\n",
        "\n",
        "Ler um número do teclado e imprimir todos os números de 1 até o número\n",
        "lido. Imprimir o produto dos números."
      ],
      "metadata": {
        "id": "O3ar6AqdWLpD"
      }
    },
    {
      "cell_type": "code",
      "source": [
        "x = int(input('Insira um valor: '))\n",
        "mult = 1\n",
        "for i in range(1, x + 1):\n",
        "  print(i)\n",
        "  mult = i * mult\n",
        "print ('A multiplicação é', mult)"
      ],
      "metadata": {
        "colab": {
          "base_uri": "https://localhost:8080/"
        },
        "id": "g5GaSS7-vKU-",
        "outputId": "2378fd7c-68e1-4bb3-b133-67fc2b42743e"
      },
      "execution_count": 100,
      "outputs": [
        {
          "output_type": "stream",
          "name": "stdout",
          "text": [
            "Insira um valor: 5\n",
            "1\n",
            "2\n",
            "3\n",
            "4\n",
            "5\n",
            "A multiplicação é 120\n"
          ]
        }
      ]
    },
    {
      "cell_type": "markdown",
      "source": [
        "###Exercício 38\n",
        "\n",
        "Escrever um programa, que leia valores inteiros até ser lido o valor 99.\n",
        "Quando isso acontecer o programa deverá escrever a soma e a média dos\n",
        "valores lidos."
      ],
      "metadata": {
        "id": "kkFUsF_sWLuo"
      }
    },
    {
      "cell_type": "code",
      "source": [
        "valor = int(input('Insira um valor: '))\n",
        "sum = 0\n",
        "i = 0\n",
        "while valor != 99:\n",
        "  sum += valor\n",
        "  i += 1\n",
        "  valor = int(input('Insira um valor: '))\n",
        "print('A soma é', sum, 'e a média é', sum/i)"
      ],
      "metadata": {
        "colab": {
          "base_uri": "https://localhost:8080/"
        },
        "id": "FuayNcY9vgtt",
        "outputId": "4974b5f5-e114-41d9-a537-bc5d866fb9d5"
      },
      "execution_count": 101,
      "outputs": [
        {
          "output_type": "stream",
          "name": "stdout",
          "text": [
            "Insira um valor: 3\n",
            "Insira um valor: 6\n",
            "Insira um valor: 9\n",
            "Insira um valor: 99\n",
            "A soma é 18 e a média é 6.0\n"
          ]
        }
      ]
    },
    {
      "cell_type": "markdown",
      "source": [
        "###Exercício 39\n",
        "\n",
        "Solicitar a idade de várias pessoas e imprimir: Total de pessoas com menos\n",
        "de 21 anos. Total de pessoas com mais de 50 anos. O programa termina\n",
        "quando idade for = 99."
      ],
      "metadata": {
        "id": "0Ym9r2cuWLz1"
      }
    },
    {
      "cell_type": "code",
      "source": [
        "idade = int(input('Insira uma idade: '))\n",
        "menor = 0\n",
        "maior = 0\n",
        "while idade != 99:\n",
        "  if idade < 21: {menor := menor + 1}\n",
        "  elif idade > 50: {maior := maior + 1}\n",
        "  idade = int(input('Insira uma idade: '))\n",
        "print('Tem', menor, 'pessoas com menos de 21 anos e', maior, 'pessoas com mais de 50 anos.')"
      ],
      "metadata": {
        "colab": {
          "base_uri": "https://localhost:8080/"
        },
        "id": "T41DZ_5ZvqEL",
        "outputId": "a43b7720-accf-4b32-9b44-f90a5739406d"
      },
      "execution_count": 105,
      "outputs": [
        {
          "output_type": "stream",
          "name": "stdout",
          "text": [
            "Insira uma idade: 1\n",
            "Insira uma idade: 2\n",
            "Insira uma idade: 3\n",
            "Insira uma idade: 4\n",
            "Insira uma idade: 20\n",
            "Insira uma idade: 21\n",
            "Insira uma idade: 49\n",
            "Insira uma idade: 50\n",
            "Insira uma idade: 51\n",
            "Insira uma idade: 52\n",
            "Insira uma idade: 43\n",
            "Insira uma idade: 99\n",
            "Tem 5 pessoas com menos de 21 anos e 2 pessoas com mais de 50 anos.\n"
          ]
        }
      ]
    },
    {
      "cell_type": "markdown",
      "source": [
        "###Exercício 40\n",
        "\n",
        "Solicitar um número entre 1 e 4. Se a pessoas digitar um número\n",
        "diferente, mostrar a mensagem \"entrada inválida\" e solicitar o número\n",
        "novamente. Se digitar correto mostrar o número digitado."
      ],
      "metadata": {
        "id": "44yQJ0iSWL4l"
      }
    },
    {
      "cell_type": "code",
      "source": [
        "validador = 0\n",
        "while validador == 0:\n",
        "  num = int(input('Insira um número entre 1 e 4: '))\n",
        "  if num > 1 and num < 4:\n",
        "    print('O número inserido foi', num)\n",
        "    validador = 1\n",
        "  else:\n",
        "    print('entrada inválida')"
      ],
      "metadata": {
        "colab": {
          "base_uri": "https://localhost:8080/"
        },
        "id": "YpbK4MnHw5Ya",
        "outputId": "265ee9ed-f051-4688-d8db-2283b51ec3cb"
      },
      "execution_count": 109,
      "outputs": [
        {
          "output_type": "stream",
          "name": "stdout",
          "text": [
            "Insira um número entre 1 e 4: 1\n",
            "entrada inválida\n",
            "Insira um número entre 1 e 4: 4\n",
            "entrada inválida\n",
            "Insira um número entre 1 e 4: 5\n",
            "entrada inválida\n",
            "Insira um número entre 1 e 4: 3\n",
            "O número inserido foi 3\n"
          ]
        }
      ]
    },
    {
      "cell_type": "markdown",
      "source": [
        "###Exercício 41\n",
        "\n",
        "Solicitar um número entre 1 e 4. Se a pessoa digitar um número diferente,\n",
        "mostrar a mensagem \"entrada inválida\" e solicitar o número novamente.\n",
        "Se digitar correto mostrar o número digitado."
      ],
      "metadata": {
        "id": "JhtpHiFEWL9e"
      }
    },
    {
      "cell_type": "code",
      "source": [
        "validador = 0\n",
        "while validador == 0:\n",
        "  num = int(input('Insira um número entre 1 e 4: '))\n",
        "  if num > 1 and num < 4:\n",
        "    print('O número inserido foi', num)\n",
        "    validador = 1\n",
        "  else:\n",
        "    print('entrada inválida')"
      ],
      "metadata": {
        "colab": {
          "base_uri": "https://localhost:8080/"
        },
        "id": "RP7Wp6ASyKHp",
        "outputId": "4fa7b3ec-229d-4956-b5e9-dc6e8a921b68"
      },
      "execution_count": 110,
      "outputs": [
        {
          "output_type": "stream",
          "name": "stdout",
          "text": [
            "Insira um número entre 1 e 4: 1\n",
            "entrada inválida\n",
            "Insira um número entre 1 e 4: 4\n",
            "entrada inválida\n",
            "Insira um número entre 1 e 4: 5\n",
            "entrada inválida\n",
            "Insira um número entre 1 e 4: 2\n",
            "O número inserido foi 2\n"
          ]
        }
      ]
    },
    {
      "cell_type": "markdown",
      "source": [
        "###Exercício 42\n",
        "\n",
        "Fazer um programa que receba um valor n no teclado e determine o maior.\n",
        "A condição de término do programa é quando o usuário digitar zero."
      ],
      "metadata": {
        "id": "p8P8qjQ_WMHZ"
      }
    },
    {
      "cell_type": "code",
      "source": [
        "num = 1\n",
        "while num != 0:\n",
        "  num = int(input('Insira um número: '))\n",
        "  if maior < num:\n",
        "    maior = num\n",
        "print(maior)"
      ],
      "metadata": {
        "colab": {
          "base_uri": "https://localhost:8080/"
        },
        "id": "-4JDpO8cyThr",
        "outputId": "0639fa31-ef0a-4886-c02e-576779e448b2"
      },
      "execution_count": 111,
      "outputs": [
        {
          "output_type": "stream",
          "name": "stdout",
          "text": [
            "Insira um número: 1\n",
            "Insira um número: 2\n",
            "Insira um número: 3\n",
            "Insira um número: 66\n",
            "Insira um número: 44\n",
            "Insira um número: 777\n",
            "Insira um número: 8888\n",
            "Insira um número: 9999\n",
            "Insira um número: 0\n",
            "9999\n"
          ]
        }
      ]
    },
    {
      "cell_type": "markdown",
      "source": [
        "###Exercício 43\n",
        "\n",
        "Apresentar o total da soma obtida dos cem primeiros números inteiros."
      ],
      "metadata": {
        "id": "BsQwqTPbWMMB"
      }
    },
    {
      "cell_type": "code",
      "source": [
        "x = int(input('Até qual número? '))\n",
        "sum = 0\n",
        "for i in range(x + 1):\n",
        "  sum += i\n",
        "print(sum)"
      ],
      "metadata": {
        "colab": {
          "base_uri": "https://localhost:8080/"
        },
        "id": "ddWjOu4DzEkX",
        "outputId": "23a272a6-63eb-4b3f-fcc8-125479e2cba5"
      },
      "execution_count": 112,
      "outputs": [
        {
          "output_type": "stream",
          "name": "stdout",
          "text": [
            "Até qual número? 100\n",
            "5050\n"
          ]
        }
      ]
    },
    {
      "cell_type": "markdown",
      "source": [
        "###Exercício 44\n",
        "\n",
        "Receber um número e verificar se está entre 100 e 200. Se estiver na\n",
        "faixa, imprimir: \"Você digitou um número entre 100 e 200\", senão estiver\n",
        "na faixa, imprimir: \"Você digitou um número fora da faixa entre100 e 200\"."
      ],
      "metadata": {
        "id": "ahxQiFcwWMX5"
      }
    },
    {
      "cell_type": "code",
      "source": [
        "num = int(input('Insira um número entre 1 e 4: '))\n",
        "if num > 100 and num < 200:\n",
        "  print('Você digitou um número entre 100 e 200')\n",
        "else:\n",
        "  print('Você digitou um número fora da faixa entre 100 e 200')"
      ],
      "metadata": {
        "colab": {
          "base_uri": "https://localhost:8080/"
        },
        "id": "JLpkZvJ9zG5N",
        "outputId": "6cd1a379-723a-4ffa-a3f3-9cf984e0cd39"
      },
      "execution_count": 116,
      "outputs": [
        {
          "output_type": "stream",
          "name": "stdout",
          "text": [
            "Insira um número entre 1 e 4: 250\n",
            "Você digitou um número fora da faixa entre 100 e 200\n"
          ]
        }
      ]
    }
  ]
}